{
 "cells": [
  {
   "cell_type": "markdown",
   "metadata": {},
   "source": [
    "## Занятие 4:\n",
    "## Сложность алгоритмов\n"
   ]
  },
  {
   "cell_type": "markdown",
   "metadata": {},
   "source": [
    "#### 1. Оцените сложность кода:\n",
    "\n",
    "if test:\n",
    "\n",
    "  block 1\n",
    "  \n",
    "else:\n",
    "\n",
    "  block 2"
   ]
  },
  {
   "cell_type": "markdown",
   "metadata": {},
   "source": [
    "Если в условии test требуется умножение двух n * n матриц. Сложность block 1 – O(N2), block 2 – O(N)."
   ]
  },
  {
   "cell_type": "markdown",
   "metadata": {},
   "source": [
    "#### 2. Оцените вычислительная сложность вычисления последовательности Фибоначчи."
   ]
  },
  {
   "cell_type": "markdown",
   "metadata": {},
   "source": [
    "#### 3. Реализуйте сортировку пузырьком. Какова ассимптотическая сложность алгоритма?"
   ]
  },
  {
   "cell_type": "markdown",
   "metadata": {},
   "source": [
    "#### 4. Необходимо написать функцию calc_frac(number), которая принимает 1 аргумент — неотъемлемое целое число number, и возвращает список, содержащий 2 целых числа — числитель и знаменатель крупнейшей правильной несокращаемой дроби, для которой сумма числителя и знаменателя равна number. Вернуть False, если создать такую дробь невозможно. Оцените алгоритмическую сложность и сложность по памяти полученного алгоритма."
   ]
  },
  {
   "cell_type": "markdown",
   "metadata": {},
   "source": [
    "#### 5. Напишите функцию sudoku(N), которая принимает 1 аргумент — положительное целое число (1 <= N <= 42), и возвращает список списков — квадратную матрицу, представляющий судоку размерности N. Определите сложность алгоритма по памяти и времени."
   ]
  },
  {
   "cell_type": "code",
   "execution_count": null,
   "metadata": {},
   "outputs": [],
   "source": []
  }
 ],
 "metadata": {
  "kernelspec": {
   "display_name": "Python 3",
   "language": "python",
   "name": "python3"
  },
  "language_info": {
   "codemirror_mode": {
    "name": "ipython",
    "version": 3
   },
   "file_extension": ".py",
   "mimetype": "text/x-python",
   "name": "python",
   "nbconvert_exporter": "python",
   "pygments_lexer": "ipython3",
   "version": "3.8.5"
  }
 },
 "nbformat": 4,
 "nbformat_minor": 4
}
