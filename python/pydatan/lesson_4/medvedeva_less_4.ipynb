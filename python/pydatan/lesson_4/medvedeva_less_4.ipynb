{
 "cells": [
  {
   "cell_type": "markdown",
   "metadata": {},
   "source": [
    "## Занятие 4:\n",
    "## Сложность алгоритмов\n"
   ]
  },
  {
   "cell_type": "markdown",
   "metadata": {},
   "source": [
    "### Списки (lists)"
   ]
  },
  {
   "cell_type": "markdown",
   "metadata": {},
   "source": [
    "#### O(1) - класс сложности имеют операции, которые выполняются за константное время, например, создание переменной или сложение небольших чисел."
   ]
  },
  {
   "cell_type": "markdown",
   "metadata": {},
   "source": [
    "Получение элемента: l[i]\n",
    "\n",
    "Сохранение элемента\tl[i] = 0\n",
    "\n",
    "Размер списка\tlen(l)\n",
    "\n",
    "Добавление элемента в конец списка\tl.append(5)\n",
    "\n",
    "Удаление последнего элемента (pop)\tl.pop()\n",
    "\n",
    "Очищение списка\tl.clear()\tO(1)"
   ]
  },
  {
   "cell_type": "markdown",
   "metadata": {},
   "source": [
    "#### O(b-a), где a и b - границы среза."
   ]
  },
  {
   "cell_type": "markdown",
   "metadata": {},
   "source": [
    "Получение среза l[a:b]"
   ]
  },
  {
   "cell_type": "markdown",
   "metadata": {},
   "source": [
    "#### O(len(...))"
   ]
  },
  {
   "cell_type": "markdown",
   "metadata": {},
   "source": [
    "Расширение l.extend(...)\n",
    "\n",
    "Создание list(...)"
   ]
  },
  {
   "cell_type": "markdown",
   "metadata": {},
   "source": [
    "#### O(N)"
   ]
  },
  {
   "cell_type": "markdown",
   "metadata": {},
   "source": [
    "Сравнение списков (==, !=) l_1 == l_2\n",
    "\n",
    "Вставка l[a:b] = ... \n",
    "\n",
    "Удаление элемента (del) del l[i]\n",
    "\n",
    "Проверка наличия x in/not in l\n",
    "\n",
    "Копирование l.copy()\n",
    "\n",
    "Удаление значения (remove) l.remove(...)\n",
    "\n",
    "Удаление элемента (pop) l.pop(i)\n",
    "\n",
    "Получение минимального/максимального значения min(l)/max(l)\n",
    "\n",
    "Разворачивание списка l.reverse()\n",
    "\n",
    "Перебор for v in l:"
   ]
  },
  {
   "cell_type": "markdown",
   "metadata": {},
   "source": [
    "#### O(N Log N)"
   ]
  },
  {
   "cell_type": "markdown",
   "metadata": {},
   "source": [
    "Сортировка l.sort()"
   ]
  },
  {
   "cell_type": "markdown",
   "metadata": {},
   "source": [
    "#### O(k N)"
   ]
  },
  {
   "cell_type": "markdown",
   "metadata": {},
   "source": [
    "Умножение k*l"
   ]
  },
  {
   "cell_type": "markdown",
   "metadata": {},
   "source": [
    "### Множества (sets)"
   ]
  },
  {
   "cell_type": "markdown",
   "metadata": {},
   "source": [
    "#### O(1) - класс сложности имеют операции, которые выполняются за константное время, например, создание переменной или сложение небольших чисел."
   ]
  },
  {
   "cell_type": "markdown",
   "metadata": {},
   "source": [
    "Размер множества len(s)\n",
    "\n",
    "Добавление элемента\ts.add(5)\n",
    "\n",
    "Проверка наличия значения\tx in/not in s\n",
    "\n",
    "Удаление значения (remove)\ts.remove(..)\n",
    "\n",
    "Удаление значения (discard)\ts.discard(..)\n",
    "\n",
    "Удаление значения (pop)\ts.pop()\n",
    "\n",
    "Очищение множества\ts.clear()"
   ]
  },
  {
   "cell_type": "markdown",
   "metadata": {},
   "source": [
    "#### O(len(...))"
   ]
  },
  {
   "cell_type": "markdown",
   "metadata": {},
   "source": [
    "Создание set(...)\n",
    "\n",
    "Сравнение множеств (==, !=)\ts != t\tO(len(s))\n",
    "\n",
    "Сравнение множеств (<=/<)\ts <= t\tO(len(s))\n",
    "\n",
    "Сравнение множеств (>=/>)\ts >= t\tO(len(t))"
   ]
  },
  {
   "cell_type": "markdown",
   "metadata": {},
   "source": [
    "#### O(len(s)+len(t))\t"
   ]
  },
  {
   "cell_type": "markdown",
   "metadata": {},
   "source": [
    "Объединение (union)\ts | t\n",
    "\n",
    "Пересечение (intersection)\ts & t\n",
    "\n",
    "Разность (difference)\ts – t\n",
    "\n",
    "Симметричная разность\ts ^ t"
   ]
  },
  {
   "cell_type": "markdown",
   "metadata": {},
   "source": [
    "#### O(N)"
   ]
  },
  {
   "cell_type": "markdown",
   "metadata": {},
   "source": [
    "Перебор множества\tfor v in s:\n",
    "\n",
    "Копирование\ts.copy()"
   ]
  },
  {
   "cell_type": "markdown",
   "metadata": {},
   "source": [
    "### Словари (dict и defaultdict)"
   ]
  },
  {
   "cell_type": "markdown",
   "metadata": {},
   "source": [
    "#### O(1)"
   ]
  },
  {
   "cell_type": "markdown",
   "metadata": {},
   "source": [
    "Получение элемента\td[k]\n",
    "\n",
    "Сохранение элемента\td[k] = v\n",
    "\n",
    "Размер словаря\tlen(d)\n",
    "\n",
    "Удаление элемента (del)\tdel d[k]\n",
    "\n",
    "get/setdefault\td.get(k)\n",
    "\n",
    "Удаление (pop)\td.pop(k)\n",
    "\n",
    "Удаление (popitem)\td.popitem()\n",
    "\n",
    "Очищение словаря\td.clear()\n",
    "\n",
    "Получение ключей\td.keys()"
   ]
  },
  {
   "cell_type": "markdown",
   "metadata": {},
   "source": [
    "####  O(len(...))"
   ]
  },
  {
   "cell_type": "markdown",
   "metadata": {},
   "source": [
    "Создание словаря\tdict(...)"
   ]
  },
  {
   "cell_type": "markdown",
   "metadata": {},
   "source": [
    "####  O(N)"
   ]
  },
  {
   "cell_type": "markdown",
   "metadata": {},
   "source": [
    "Перебор элементов\tfor k in d:"
   ]
  },
  {
   "cell_type": "markdown",
   "metadata": {},
   "source": [
    "Операция for i in range(...) имеет сложность O(len(...)). Для for i in range(1, 10) она равна O(1)."
   ]
  },
  {
   "cell_type": "code",
   "execution_count": 26,
   "metadata": {},
   "outputs": [
    {
     "name": "stdout",
     "output_type": "stream",
     "text": [
      "Wall time: 22min 44s\n"
     ]
    }
   ],
   "source": [
    "def f_1():\n",
    "    for i in range(10000000000):\n",
    "        pass\n",
    "    \n",
    "%time f_1()"
   ]
  },
  {
   "cell_type": "code",
   "execution_count": 24,
   "metadata": {},
   "outputs": [
    {
     "name": "stdout",
     "output_type": "stream",
     "text": [
      "Wall time: 2.64 s\n"
     ]
    }
   ],
   "source": [
    "def f_2():\n",
    "    for i in range(0,10000000000):\n",
    "        pass\n",
    "    \n",
    "%time f_2()"
   ]
  },
  {
   "cell_type": "markdown",
   "metadata": {},
   "source": [
    "Как Вы думаете какоя алгоритмическая сложность будет у операций for i in range(len(alist)/2) и for i in range(len(alist)/1000000)?"
   ]
  },
  {
   "cell_type": "markdown",
   "metadata": {},
   "source": [
    "При сравнении двух списков на равенство, класс сложности должен быть O(N), как указано в таблице выше. Однако в реальности это значение нужно умножить на O==(...), где O==(...) это класс сложности для операции сравнения (==) двух значений в списке. Если мы работаем с целыми числами (int), то сложность сравнения будет равна O(1), если со строками (string), то в худшем случае мы получим O(len(string))."
   ]
  },
  {
   "cell_type": "markdown",
   "metadata": {},
   "source": [
    "### Закон сложения для O-нотации"
   ]
  },
  {
   "cell_type": "markdown",
   "metadata": {},
   "source": [
    "O(f(n)) + O(g(n)) = O(f(n) + g(n))\n",
    "\n",
    "При сложении двух классов сложности складываются функции этих классов. \n",
    "\n",
    "O(N) + O(logN) = O(N + logN) = O(N)"
   ]
  },
  {
   "cell_type": "markdown",
   "metadata": {},
   "source": [
    "Вызов функции f(...) имеет сложность O(N), а вызов g(...) – O (N * log N). Давайте вызовим эти функции друг за другом. В итоге сложность действия будет равна:\n",
    "\n",
    "O(N) + O(NlogN) = O(N + NlogN) = O(NlogN)"
   ]
  },
  {
   "cell_type": "markdown",
   "metadata": {},
   "source": [
    "if test:\n",
    "\n",
    "  block 1\n",
    "else:\n",
    "\n",
    "  block 2"
   ]
  },
  {
   "cell_type": "markdown",
   "metadata": {},
   "source": [
    "test – O(N),\n",
    "block 1 – O(N2),\n",
    "block 2 – O(N)."
   ]
  },
  {
   "cell_type": "markdown",
   "metadata": {},
   "source": [
    "$O(N) + max(O(N^2),O(N)) = O(N) + O(N^2) = O(N + N^2) = O(N^2)$"
   ]
  },
  {
   "cell_type": "markdown",
   "metadata": {},
   "source": [
    "### Закон умножения для O-нотации"
   ]
  },
  {
   "cell_type": "markdown",
   "metadata": {},
   "source": [
    "$O(f(N))* O(g(N)) = O(f(N)*g(N))$"
   ]
  },
  {
   "cell_type": "markdown",
   "metadata": {},
   "source": [
    "Предположим, некоторая функция f(...) имеет класс сложности $O(N^2)$. Выполним ее в цикле N раз:"
   ]
  },
  {
   "cell_type": "markdown",
   "metadata": {},
   "source": [
    "for i in range(N):\n",
    "\n",
    "    f(...)"
   ]
  },
  {
   "cell_type": "markdown",
   "metadata": {},
   "source": [
    "$O(N)* O(N^2) = O(N*N^2) = O(N^3)$"
   ]
  },
  {
   "cell_type": "markdown",
   "metadata": {},
   "source": [
    "Таким образом, это правило позволяет вычислять класс сложности для выполнения некоторого повторяющегося несколько раз выражения. Необходимо умножить класс сложности количества повторений на класс сложности самого выражения."
   ]
  },
  {
   "cell_type": "markdown",
   "metadata": {},
   "source": [
    "### Пример 1"
   ]
  },
  {
   "cell_type": "code",
   "execution_count": 32,
   "metadata": {},
   "outputs": [],
   "source": [
    "def is_unique1 (alist):\n",
    "    for i in range(len(alist)):             # 1\n",
    "        if alist[i] in alist[i+1:]:           # 2\n",
    "            return False                        # 3\n",
    "    return True                             # 4"
   ]
  },
  {
   "cell_type": "markdown",
   "metadata": {},
   "source": [
    "O(N) – для каждого индекса. Создание объекта range требует выполнения трех последовательных операций: вычисления аргументов, передачу их в __init__ и выполнение тела __init__. Две последние имеют класс сложности O(1). Сложность len(alist) также O(1), поэтому общая сложность выражения range(len(alist)) – O(1) + O(1) + O(1) = O(1).\n",
    "\n",
    "O(N) – получение индекса + сложение + создание среза + проверка in: O(1) + O(1) + O(N) + O(N) = O(N)\n",
    "\n",
    "O(1) – в худшем случае никогда не выполняется, можно проигнорировать.\n",
    "\n",
    "O(1) – в худшем случае всегда выполняется."
   ]
  },
  {
   "cell_type": "markdown",
   "metadata": {},
   "source": [
    "$O(N)*O(N) + O(1) = O(N^2)$"
   ]
  },
  {
   "cell_type": "markdown",
   "metadata": {},
   "source": [
    "Т. е. если размер списка увеличится вдвое, то выполнение функции займет в 4 раза больше времени."
   ]
  },
  {
   "cell_type": "code",
   "execution_count": 34,
   "metadata": {},
   "outputs": [],
   "source": [
    "def is_unique1 (alist : [int]) ->bool:\n",
    "    for i in range(len(alist)):          # O(N)\n",
    "        for j in range(i+1, len(alist)):   # O(N)\n",
    "            if alist[i] == alist[j]:          # O(1)\n",
    "                return False                   # O(1)\n",
    "    return True                           # O(1)"
   ]
  },
  {
   "cell_type": "markdown",
   "metadata": {},
   "source": [
    "### Пример 2"
   ]
  },
  {
   "cell_type": "code",
   "execution_count": 35,
   "metadata": {},
   "outputs": [],
   "source": [
    "def is_unique2 (alist : [int]) -> bool:\n",
    "    copy = list(alist)             # 1\n",
    "    copy.sort()                    # 2\n",
    "    for i in range(len(alist)-1):  # 3\n",
    "        if copy[i] == copy[i+1]:     # 4\n",
    "            return False               # 5\n",
    "    return True                    # 6"
   ]
  },
  {
   "cell_type": "markdown",
   "metadata": {},
   "source": [
    "1. O(N).\n",
    "\n",
    "2. O(N log N) – для быстрой сортировки.\n",
    "\n",
    "3. O(N) – на самом деле N-1, но это то же самое. Операции получения размера списка и вычитания имеют сложность O(1).\n",
    "\n",
    "4. O(1) – сложение, две операции получения элемента по индексу и сравнение – все со сложностью O(1).\n",
    "\n",
    "5. O(1) – в худшем случае никогда не выполняется.\n",
    "\n",
    "6. O(1) – в худшем случае всегда выполняется."
   ]
  },
  {
   "cell_type": "markdown",
   "metadata": {},
   "source": [
    "Определим класс сложности функции is_unique2:\n",
    "\n",
    "$O(N) + O(Nlog(N)) + O(N)*O(1) + O(1) = O(N + Nlog(N) + O(N*1) + 1) = O(N + Nlog(N) + N + 1) = O(Nlog(N) + 2N + 1) = O(Nlog(N))$"
   ]
  },
  {
   "cell_type": "code",
   "execution_count": 37,
   "metadata": {},
   "outputs": [],
   "source": [
    "data = [1,2,3,4,2,2,4,6,5,7,5,8,8,9]"
   ]
  },
  {
   "cell_type": "code",
   "execution_count": 38,
   "metadata": {},
   "outputs": [],
   "source": [
    "# вариант 1\n",
    "copy = list(data)    # O(N)\n",
    "copy.sort()           # O(N log N)\n",
    "\n",
    "# вариант 2\n",
    "copy = sorted(data)  # O(N log N)"
   ]
  },
  {
   "cell_type": "markdown",
   "metadata": {},
   "source": [
    "### Пример 3"
   ]
  },
  {
   "cell_type": "code",
   "execution_count": 39,
   "metadata": {},
   "outputs": [],
   "source": [
    "def is_unique3 (alist : [int]) -> bool:\n",
    "    aset = set(alist)               # O(N)\n",
    "    return len(aset) == len(alist)  # O(1)"
   ]
  },
  {
   "cell_type": "code",
   "execution_count": 40,
   "metadata": {},
   "outputs": [],
   "source": [
    "def is_unique3 (alist : [int]) -> bool:\n",
    "    return len(set(alist)) == len(alist)"
   ]
  },
  {
   "cell_type": "markdown",
   "metadata": {},
   "source": [
    "Класс сложности для всей функции:\n",
    "\n",
    "$O(N) + O(1) = O(N + 1) = O(N)$"
   ]
  },
  {
   "cell_type": "code",
   "execution_count": null,
   "metadata": {},
   "outputs": [],
   "source": []
  }
 ],
 "metadata": {
  "kernelspec": {
   "display_name": "Python 3",
   "language": "python",
   "name": "python3"
  },
  "language_info": {
   "codemirror_mode": {
    "name": "ipython",
    "version": 3
   },
   "file_extension": ".py",
   "mimetype": "text/x-python",
   "name": "python",
   "nbconvert_exporter": "python",
   "pygments_lexer": "ipython3",
   "version": "3.8.5"
  }
 },
 "nbformat": 4,
 "nbformat_minor": 4
}
