{
 "cells": [
  {
   "cell_type": "markdown",
   "metadata": {},
   "source": [
    "# Многопоточность в Python"
   ]
  },
  {
   "cell_type": "markdown",
   "metadata": {},
   "source": [
    "### Запуск потока с применением threading"
   ]
  },
  {
   "cell_type": "code",
   "execution_count": 1,
   "metadata": {},
   "outputs": [],
   "source": [
    "import threading\n",
    "\n",
    "class MyThread(threading.Thread):\n",
    "    def __init__(self, x):\n",
    "        threading.Thread.__init__(self)\n",
    "        self.x = x\n",
    "\n",
    "    def run(self):\n",
    "        print('Starting processing %i...' % x)\n",
    "        is_prime(self.x)"
   ]
  },
  {
   "cell_type": "markdown",
   "metadata": {},
   "source": [
    "## Распределение задач между потоками при помощи очереди"
   ]
  },
  {
   "cell_type": "markdown",
   "metadata": {},
   "source": [
    "Queue предоставляет нам механизм взаимодействия потоков между процессами FIFO (первым пришел — первым обслужен).\n",
    "Ниже пример, где \"воркеры\" выполняют вычисление чисел Фибоначчи.\n",
    "# Версия 1\n",
    "Воркеры \"добывают\" себе задание из очереди и печатают результат на экран."
   ]
  },
  {
   "cell_type": "code",
   "execution_count": 2,
   "metadata": {},
   "outputs": [
    {
     "name": "stdout",
     "output_type": "stream",
     "text": [
      "Parent process queued all the tasks.\n",
      "worker 2, PID=27966: fib(1) = 1\n",
      "worker 3, PID=27967: fib(3) = 2\n",
      "worker 1, PID=27963: fib(2) = 1\n",
      "worker 1, PID=27963: fib(5) = 5\n",
      "worker 1, PID=27963: fib(6) = 8\n",
      "worker 0, PID=27962: fib(0) = 1\n",
      "worker 2, PID=27966: fib(4) = 3\n",
      "worker 0, PID=27962: fib(9) = 34\n",
      "worker 1, PID=27963: fib(8) = 21\n",
      "worker 3, PID=27967: fib(7) = 13\n",
      "worker 2, PID=27966: fib(10) = 55\n",
      "worker 1, PID=27963: fib(11) = 89\n",
      "worker 3, PID=27967: fib(12) = 144\n",
      "worker 2, PID=27966: fib(13) = 233\n",
      "worker 2, PID=27966: fib(14) = 377\n",
      "worker 3, PID=27967: fib(15) = 610\n",
      "worker 2, PID=27966: fib(16) = 987\n",
      "worker 3, PID=27967: fib(17) = 1597\n",
      "worker 0, PID=27962: fib(19) = 4181\n",
      "worker 1, PID=27963: fib(20) = 6765\n",
      "worker 0, PID=27962: fib(21) = 10946\n",
      "worker 2, PID=27966: fib(18) = 2584\n",
      "worker 1, PID=27963: fib(22) = 17711\n",
      "worker 3, PID=27967: fib(23) = 28657\n",
      "worker 0, PID=27962: fib(24) = 46368\n",
      "worker 2, PID=27966: fib(25) = 75025\n",
      "worker 3, PID=27967: fib(27) = 196418\n",
      "worker 1, PID=27963: fib(26) = 121393\n",
      "Parent process started workers processes.\n",
      "worker 0, PID=27962: fib(28) = 317811\n",
      "worker 2, PID=27966: fib(29) = 514229\n",
      "worker 1, PID=27963: fib(30) = 832040\n",
      "worker 3, PID=27967: fib(31) = 1346269\n",
      "worker 0, PID=27962: fib(32) = 2178309\n",
      "worker 2, PID=27966: fib(33) = 3524578\n",
      "worker 1, PID=27963: fib(34) = 5702887\n",
      "worker 3, PID=27967: fib(35) = 9227465\n",
      "worker 0, PID=27962: fib(36) = 14930352\n",
      "worker 2, PID=27966: fib(37) = 24157817\n",
      "worker 1, PID=27963: fib(38) = 39088169\n",
      "worker 3, PID=27967: fib(39) = 63245986\n",
      "worker 0, PID=27962: fib(40) = 102334155\n",
      "Parent process joined all the workers processes. Duration: 37.24010823499884\n"
     ]
    }
   ],
   "source": [
    "from multiprocessing import Process, Queue\n",
    "import os\n",
    "import time\n",
    "\n",
    "workers_number = 4\n",
    "final_fibonacci_number = 40\n",
    "\n",
    "\n",
    "def worker(tasks: Queue, process_index: int):\n",
    "    def fib(n: int) -> int:\n",
    "        return fib(n-1) + fib(n-2) if n > 2 else 1\n",
    "    \n",
    "    while not tasks.empty():  # пока очередь не пуста выполняем одну очередную задачу\n",
    "        number = tasks.get()\n",
    "        answer = fib(number)\n",
    "        print(f\"worker {process_index}, PID={os.getpid()}: fib({number}) = {answer}\")\n",
    "    \n",
    "\n",
    "def main():\n",
    "    tasks = Queue()\n",
    "    for n in range(0, final_fibonacci_number + 1):\n",
    "        tasks.put(n)\n",
    "\n",
    "    workers = []\n",
    "    for process_index in range(workers_number):\n",
    "        worker_process = Process(target = worker, args = (tasks, process_index,))\n",
    "        workers.append(worker_process)\n",
    "    print(\"Parent process queued all the tasks.\")\n",
    "    start_time = time.perf_counter()\n",
    "    for worker_process in workers:\n",
    "        worker_process.start()\n",
    "    print(\"Parent process started workers processes.\")\n",
    "    for worker_process in workers:\n",
    "        worker_process.join()\n",
    "    finish_time = time.perf_counter()\n",
    "    print(\"Parent process joined all the workers processes. Duration:\",\n",
    "          finish_time - start_time)\n",
    "    \n",
    "    \n",
    "if __name__ == '__main__':\n",
    "    main()"
   ]
  },
  {
   "cell_type": "markdown",
   "metadata": {},
   "source": [
    "# Версия 2\n",
    "Теперь не будем печатать результаты на экран, но сделаем очередь результатов:"
   ]
  },
  {
   "cell_type": "code",
   "execution_count": 3,
   "metadata": {},
   "outputs": [
    {
     "name": "stdout",
     "output_type": "stream",
     "text": [
      "Parent process queued all the tasks.\n",
      "Parent process started workers processes.\n",
      "Parent process joined all the workers processes. Duration: 39.01372305800032\n",
      "worker 0, PID=28102: fib(0) = 1\n",
      "worker 0, PID=28102: fib(1) = 1\n",
      "worker 0, PID=28102: fib(2) = 1\n",
      "worker 0, PID=28102: fib(3) = 2\n",
      "worker 0, PID=28102: fib(4) = 3\n",
      "worker 0, PID=28102: fib(5) = 5\n",
      "worker 1, PID=28103: fib(17) = 1597\n",
      "worker 0, PID=28102: fib(6) = 8\n",
      "worker 0, PID=28102: fib(7) = 13\n",
      "worker 0, PID=28102: fib(8) = 21\n",
      "worker 0, PID=28102: fib(9) = 34\n",
      "worker 0, PID=28102: fib(10) = 55\n",
      "worker 0, PID=28102: fib(11) = 89\n",
      "worker 0, PID=28102: fib(12) = 144\n",
      "worker 0, PID=28102: fib(13) = 233\n",
      "worker 0, PID=28102: fib(14) = 377\n",
      "worker 0, PID=28102: fib(15) = 610\n",
      "worker 0, PID=28102: fib(16) = 987\n",
      "worker 0, PID=28102: fib(18) = 2584\n",
      "worker 0, PID=28102: fib(19) = 4181\n",
      "worker 0, PID=28102: fib(21) = 10946\n",
      "worker 2, PID=28105: fib(20) = 6765\n",
      "worker 2, PID=28105: fib(22) = 17711\n",
      "worker 0, PID=28102: fib(24) = 46368\n",
      "worker 3, PID=28107: fib(23) = 28657\n",
      "worker 2, PID=28105: fib(26) = 121393\n",
      "worker 1, PID=28103: fib(25) = 75025\n",
      "worker 3, PID=28107: fib(27) = 196418\n",
      "worker 0, PID=28102: fib(28) = 317811\n",
      "worker 2, PID=28105: fib(29) = 514229\n",
      "worker 1, PID=28103: fib(30) = 832040\n",
      "worker 3, PID=28107: fib(31) = 1346269\n",
      "worker 0, PID=28102: fib(32) = 2178309\n",
      "worker 2, PID=28105: fib(33) = 3524578\n",
      "worker 1, PID=28103: fib(34) = 5702887\n",
      "worker 3, PID=28107: fib(35) = 9227465\n",
      "worker 0, PID=28102: fib(36) = 14930352\n",
      "worker 2, PID=28105: fib(37) = 24157817\n",
      "worker 1, PID=28103: fib(38) = 39088169\n",
      "worker 3, PID=28107: fib(39) = 63245986\n",
      "worker 0, PID=28102: fib(40) = 102334155\n",
      "1 1 1 2 3 5 8 13 21 34 55 89 144 233 377 610 987 1597 2584 4181 6765 10946 17711 28657 46368 75025 121393 196418 317811 514229 832040 1346269 2178309 3524578 5702887 9227465 14930352 24157817 39088169 63245986 102334155\n"
     ]
    }
   ],
   "source": [
    "from multiprocessing import Process, Queue\n",
    "import os\n",
    "import time\n",
    "\n",
    "workers_number = 4\n",
    "final_fibonacci_number = 40\n",
    "\n",
    "\n",
    "def worker(tasks: Queue, answers: Queue, process_index: int):\n",
    "    def fib(n: int) -> int:\n",
    "        return fib(n-1) + fib(n-2) if n > 2 else 1\n",
    "    \n",
    "    while not tasks.empty():  # пока очередь не пуста выполняем одну очередную задачу\n",
    "        number = tasks.get()\n",
    "        answer = fib(number)\n",
    "        answers.put((process_index, os.getpid(), number, answer,))\n",
    "        #print(f\"worker {process_index}, PID={os.getpid()}: fib({number}) = {answer}\")\n",
    "    \n",
    "\n",
    "def main():\n",
    "    tasks = Queue()\n",
    "    answers = Queue()\n",
    "    for n in range(0, final_fibonacci_number + 1):\n",
    "        tasks.put(n)\n",
    "\n",
    "    workers = []\n",
    "    for process_index in range(workers_number):\n",
    "        worker_process = Process(target = worker,\n",
    "                                 args = (tasks, answers, process_index,))\n",
    "        workers.append(worker_process)\n",
    "    print(\"Parent process queued all the tasks.\")\n",
    "    start_time = time.perf_counter()\n",
    "    for worker_process in workers:\n",
    "        worker_process.start()\n",
    "    print(\"Parent process started workers processes.\")\n",
    "    for worker_process in workers:\n",
    "        worker_process.join()\n",
    "    # Всё, тут мы вышли из режима многозадачности. Работает один родительский процесс.\n",
    "    finish_time = time.perf_counter()\n",
    "    print(\"Parent process joined all the workers processes. Duration:\",\n",
    "          finish_time - start_time)\n",
    "    # Отладочная распечатка результатов\n",
    "    ordered_answers = []\n",
    "    while not answers.empty():\n",
    "        process_index, PID, number, answer = answers.get()\n",
    "        ordered_answers.append((number, answer,))\n",
    "        print(f\"worker {process_index}, PID={PID}: fib({number}) = {answer}\")\n",
    "    # Красивая распечатка полученных результатов:\n",
    "    ordered_answers.sort()\n",
    "    print(*(answer for number, answer in ordered_answers))\n",
    "    \n",
    "if __name__ == '__main__':\n",
    "    main()"
   ]
  },
  {
   "cell_type": "markdown",
   "metadata": {},
   "source": [
    "# Версия 3\n",
    "Откажемся от явного использования Process, да и от Queue тоже, в пользу Pool."
   ]
  },
  {
   "cell_type": "code",
   "execution_count": 4,
   "metadata": {},
   "outputs": [
    {
     "name": "stdout",
     "output_type": "stream",
     "text": [
      "Duration: 20.047907690999637\n",
      "1 1 1 2 3 5 8 13 21 34 55 89 144 233 377 610 987 1597 2584 4181 6765 10946 17711 28657 46368 75025 121393 196418 317811 514229 832040 1346269 2178309 3524578 5702887 9227465 14930352 24157817 39088169 63245986\n"
     ]
    }
   ],
   "source": [
    "from multiprocessing import Pool\n",
    "import os\n",
    "import time\n",
    "\n",
    "workers_number = 4\n",
    "final_fibonacci_number = 40\n",
    "\n",
    "\n",
    "def fib(n: int) -> int:\n",
    "    return fib(n-1) + fib(n-2) if n > 2 else 1\n",
    "    \n",
    "\n",
    "def main():\n",
    "    tasks = list(range(0, final_fibonacci_number))\n",
    "    start_time = time.perf_counter()\n",
    "    # Уход в паралельные вычисления:\n",
    "    with Pool(workers_number) as pool_of_processes:\n",
    "        answers = list(pool_of_processes.map(fib, tasks))\n",
    "    # Всё, тут мы вышли из режима многозадачности. Работает один родительский процесс.\n",
    "    finish_time = time.perf_counter()\n",
    "    print(\"Duration:\", finish_time - start_time)\n",
    "    \n",
    "    print(*answers)\n",
    "    \n",
    "if __name__ == '__main__':\n",
    "    main()"
   ]
  },
  {
   "cell_type": "code",
   "execution_count": 5,
   "metadata": {},
   "outputs": [
    {
     "name": "stdout",
     "output_type": "stream",
     "text": [
      "Duration: 59.498384865000844\n",
      "1 1 1 2 3 5 8 13 21 34 55 89 144 233 377 610 987 1597 2584 4181 6765 10946 17711 28657 46368 75025 121393 196418 317811 514229 832040 1346269 2178309 3524578 5702887 9227465 14930352 24157817 39088169 63245986 102334155\n"
     ]
    }
   ],
   "source": [
    "import time\n",
    "\n",
    "final_fibonacci_number = 40\n",
    "\n",
    "\n",
    "def fib(n: int) -> int:\n",
    "    return fib(n-1) + fib(n-2) if n > 2 else 1\n",
    "    \n",
    "\n",
    "def main():\n",
    "    tasks = list(range(0, final_fibonacci_number + 1))\n",
    "    start_time = time.perf_counter()\n",
    "    # Никаких параллельных вычислений! Работаем сами:\n",
    "    answers = []\n",
    "    for number in tasks:\n",
    "        answers.append(fib(number))\n",
    "    # Работает один родительский процесс по-прежнему.\n",
    "    finish_time = time.perf_counter()\n",
    "    print(\"Duration:\", finish_time - start_time)\n",
    "    \n",
    "    print(*answers)\n",
    "    \n",
    "if __name__ == '__main__':\n",
    "    main()"
   ]
  }
 ],
 "metadata": {
  "kernelspec": {
   "display_name": "Python 3",
   "language": "python",
   "name": "python3"
  },
  "language_info": {
   "codemirror_mode": {
    "name": "ipython",
    "version": 3
   },
   "file_extension": ".py",
   "mimetype": "text/x-python",
   "name": "python",
   "nbconvert_exporter": "python",
   "pygments_lexer": "ipython3",
   "version": "3.7.4"
  }
 },
 "nbformat": 4,
 "nbformat_minor": 4
}
